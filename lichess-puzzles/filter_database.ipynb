{
 "cells": [
  {
   "cell_type": "markdown",
   "id": "b4504163",
   "metadata": {},
   "source": [
    "****"
   ]
  },
  {
   "cell_type": "code",
   "execution_count": 2,
   "id": "99c82f77",
   "metadata": {},
   "outputs": [],
   "source": [
    "## This file filters chess games from a Lichess database based on player ratings, game length, and time control. \n",
    "## It extracts games between 1500-1700 rated players that last at least 25 moves, excluding bullet games.\n",
    "## The output is used by the chess count quiz app."
   ]
  },
  {
   "cell_type": "code",
   "execution_count": 4,
   "id": "be9f73d7",
   "metadata": {},
   "outputs": [],
   "source": [
    "import zstandard as zstd\n",
    "import io\n",
    "import chess\n",
    "import chess.pgn\n",
    "import json"
   ]
  },
  {
   "cell_type": "code",
   "execution_count": 77,
   "id": "97467c35",
   "metadata": {},
   "outputs": [],
   "source": [
    "# Settings\n",
    "input_filename = \"lichess_db_standard_rated_2016-01.pgn.zst\"\n",
    "output_filename_base = \"selected_games\"\n",
    "output_weights_fn_base = \"selected_weights\"\n",
    "total_games = 500"
   ]
  },
  {
   "cell_type": "code",
   "execution_count": 6,
   "id": "8acc3ffa",
   "metadata": {},
   "outputs": [],
   "source": [
    "def get_filtered_games():\n",
    "    \"\"\"\n",
    "    Open the game database and return filtered games\n",
    "    \"\"\"\n",
    "    filtered_games = []\n",
    "    \n",
    "    # Open and decompress the .zst file\n",
    "    with open(input_filename, 'rb') as compressed:\n",
    "        dctx = zstd.ZstdDecompressor()\n",
    "        \n",
    "        with dctx.stream_reader(compressed) as reader:\n",
    "            # Wrap the reader in a TextIOWrapper for decoding\n",
    "            text_stream = io.TextIOWrapper(reader, encoding='utf-8')\n",
    "        \n",
    "            # Loop over each game in the PGN file\n",
    "            while True:\n",
    "                game = chess.pgn.read_game(text_stream)\n",
    "                if game is None:\n",
    "                    break  # End of file reached\n",
    "                \n",
    "                # Get time control and check if it's bullet\n",
    "                time_control = game.headers.get(\"TimeControl\", \"\")\n",
    "                if time_control.startswith(\"60\") or time_control.startswith(\"120\"):\n",
    "                    # 1+0 or 2+0; Skip bullet games\n",
    "                    continue\n",
    "                \n",
    "                # Get ratings for white and black\n",
    "                try:\n",
    "                    white_rating = int(game.headers.get(\"WhiteElo\", \"0\"))\n",
    "                    black_rating = int(game.headers.get(\"BlackElo\", \"0\"))\n",
    "                except ValueError:\n",
    "                    continue  # Skip if ratings are missing or invalid\n",
    "                \n",
    "                # Filter for ratings between 1500 and 1700 (both players)\n",
    "                if not (1500 <= white_rating <= 1700 and 1500 <= black_rating <= 1700):\n",
    "                    continue\n",
    "            \n",
    "                # Count the number of moves played in the game\n",
    "                move_count = 0\n",
    "                node = game\n",
    "                while node.variations:\n",
    "                    node = node.variations[0]\n",
    "                    move_count += 1\n",
    "                # Check that the game lasts at least a certain number moves/plies\n",
    "                if move_count < 20 * 2:\n",
    "                    continue\n",
    "                    \n",
    "                # If all filters pass, add the game to the list\n",
    "                filtered_games.append(game)\n",
    "                if len(filtered_games) >= total_games:\n",
    "                    break\n",
    "                \n",
    "    return filtered_games"
   ]
  },
  {
   "cell_type": "code",
   "execution_count": 49,
   "id": "6b61f32d",
   "metadata": {},
   "outputs": [
    {
     "name": "stdout",
     "output_type": "stream",
     "text": [
      "Games downloaded\n"
     ]
    }
   ],
   "source": [
    "filtered_games = get_filtered_games()\n",
    "print(\"Games downloaded\")"
   ]
  },
  {
   "cell_type": "code",
   "execution_count": 53,
   "id": "ab2997ca",
   "metadata": {},
   "outputs": [],
   "source": [
    "def write_games(filtered_games):\n",
    "    output_filename = output_filename_base + \".pgn\"\n",
    "    with open(output_filename, \"w\", encoding=\"utf-8\") as outfile:\n",
    "        for game in filtered_games:\n",
    "            exporter = chess.pgn.StringExporter(headers=True, variations=False, comments=False)\n",
    "            pgn_text = game.accept(exporter)\n",
    "            outfile.write(pgn_text + \"\\n\\n\")\n",
    "    \n",
    "    print(f\"Extracted {len(filtered_games)} games and saved to {output_filename}\")"
   ]
  },
  {
   "cell_type": "code",
   "execution_count": 54,
   "id": "0c500d74",
   "metadata": {},
   "outputs": [
    {
     "name": "stdout",
     "output_type": "stream",
     "text": [
      "Extracted 500 games and saved to selected_games.pgn\n",
      "Games written\n"
     ]
    }
   ],
   "source": [
    "write_games(filtered_games)\n",
    "print(\"Games written\")"
   ]
  },
  {
   "cell_type": "markdown",
   "id": "851e66c8",
   "metadata": {},
   "source": [
    "### class PlyStats:\n",
    "\n",
    "\"\"\"Hold some stats on the current ply of game"
   ]
  },
  {
   "cell_type": "code",
   "execution_count": 55,
   "id": "8689e382",
   "metadata": {},
   "outputs": [],
   "source": [
    "class PlyStats:\n",
    "    \"\"\"Hold some stats on the current ply of game\n",
    "    \n",
    "    checks and captures indicate how many different moves, from the\n",
    "    current position, there are that would result in a check or\n",
    "    capture.\n",
    "    \"\"\"\n",
    "    def __init__(self):\n",
    "        self.white_moves = 0\n",
    "        self.white_checks = 0\n",
    "        self.white_captures = 0\n",
    "        self.black_moves = 0\n",
    "        self.black_checks = 0\n",
    "        self.black_captures = 0\n",
    "        self.in_check = False\n",
    "        self.castling_rights = False\n",
    "        self.en_passant_rights = False\n",
    "\n",
    "class GameStats:\n",
    "    \"\"\"\n",
    "    Dictionary from ply index to PlyStats\n",
    "    \"\"\"\n",
    "    def __init__(self, d):\n",
    "        assert isinstance(d, dict)\n",
    "        self.d = d\n",
    "        \n",
    "    def __getitem__(self, key):\n",
    "        return self.d[key]"
   ]
  },
  {
   "cell_type": "code",
   "execution_count": 56,
   "id": "7c51d5f5",
   "metadata": {},
   "outputs": [],
   "source": [
    "def get_game_stats(game, start_ply=20, end_ply=100):\n",
    "    \"\"\"\n",
    "    Returns dictionary of stats for the given game ply_index -> PlyStats object\n",
    "    \"\"\"\n",
    "    board = game.board()\n",
    "    ply_index = 0\n",
    "    node = game\n",
    "    \n",
    "    result = {}\n",
    "    \n",
    "    while node.variations:\n",
    "        move = node.variation(0).move\n",
    "        board.push(move)\n",
    "        ply_index += 1\n",
    "    \n",
    "        if start_ply <= ply_index <= end_ply:\n",
    "            is_white = board.turn == chess.BLACK  # Because the move has just been made\n",
    "            \n",
    "            stats = PlyStats()\n",
    "            \n",
    "            stats.white_moves, stats.white_checks, stats.white_captures = move_counts(board, flip=is_white)\n",
    "            stats.black_moves, stats.black_checks, stats.black_captures = move_counts(board, flip=not is_white)\n",
    "                \n",
    "            stats.in_check = board.is_check()\n",
    "            if (board.has_castling_rights(chess.WHITE) or\n",
    "                board.has_castling_rights(chess.BLACK)): \n",
    "                stats.castling_rights = True\n",
    "            if board.ep_square is not None:\n",
    "                stats.en_passant_rights = True\n",
    "            \n",
    "            result[ply_index] = stats\n",
    "        node = node.variations[0]\n",
    "        \n",
    "    print(\".\", end=\"\")\n",
    "    return GameStats(result)"
   ]
  },
  {
   "cell_type": "code",
   "execution_count": 57,
   "id": "ab9b885b",
   "metadata": {},
   "outputs": [],
   "source": [
    "def move_counts(board, flip=False):\n",
    "    \"\"\"\n",
    "    Return move counts for given board position\n",
    "    \"\"\"\n",
    "    # Copy the board so the original isn't modified\n",
    "    board_copy = board.copy()\n",
    "    \n",
    "    if flip: # Switch the turn to the opponent\n",
    "        board_copy.turn = not board_copy.turn\n",
    "\n",
    "    total_legal_moves = 0\n",
    "    captures = 0\n",
    "    checks = 0\n",
    "\n",
    "    for move in board_copy.legal_moves:\n",
    "        total_legal_moves += 1\n",
    "        if board_copy.is_capture(move):\n",
    "            captures += 1\n",
    "        # Make a new copy to test the result of the move\n",
    "        test_board = board_copy.copy()\n",
    "        test_board.push(move)\n",
    "        if test_board.is_check():\n",
    "            checks += 1\n",
    "\n",
    "    return total_legal_moves, checks, captures"
   ]
  },
  {
   "cell_type": "code",
   "execution_count": 58,
   "id": "92ab4b62",
   "metadata": {},
   "outputs": [
    {
     "name": "stdout",
     "output_type": "stream",
     "text": [
      ".{'white_moves': 41, 'white_checks': 0, 'white_captures': 5, 'black_moves': 40, 'black_checks': 0, 'black_captures': 2, 'in_check': False, 'castling_rights': True, 'en_passant_rights': False}\n"
     ]
    }
   ],
   "source": [
    "print(get_game_stats(filtered_games[0])[20].__dict__)"
   ]
  },
  {
   "cell_type": "code",
   "execution_count": 59,
   "id": "9d782409",
   "metadata": {},
   "outputs": [
    {
     "name": "stdout",
     "output_type": "stream",
     "text": [
      "....................................................................................................................................................................................................................................................................................................................................................................................................................................................................................................................Game stats computed\n"
     ]
    }
   ],
   "source": [
    "all_stats = [get_game_stats(game) for game in filtered_games]\n",
    "print(\"Game stats computed\")"
   ]
  },
  {
   "cell_type": "code",
   "execution_count": 65,
   "id": "60aefe0b",
   "metadata": {},
   "outputs": [
    {
     "data": {
      "text/plain": [
       "2.449489742783178"
      ]
     },
     "execution_count": 65,
     "metadata": {},
     "output_type": "execute_result"
    }
   ],
   "source": [
    "def calc_ply_weight(ply_stats):\n",
    "    \"\"\"\n",
    "    Calc the weight of a board position\n",
    "    \n",
    "    Weight here is proportional to probability.\n",
    "    The idea is to make more interesting positions occur more frequently\n",
    "    to the user.\n",
    "    \"\"\"\n",
    "    if ply_stats.castling_rights or ply_stats.in_check or ply_stats.en_passant_rights:\n",
    "        return .0\n",
    "    \n",
    "    return (1\n",
    "            + ply_stats.white_checks + ply_stats.white_captures\n",
    "            + ply_stats.black_checks + ply_stats.black_captures)**.5\n",
    "\n",
    "calc_ply_weight(all_stats[0][26])"
   ]
  },
  {
   "cell_type": "code",
   "execution_count": 68,
   "id": "a2391371",
   "metadata": {},
   "outputs": [
    {
     "name": "stdout",
     "output_type": "stream",
     "text": [
      "Game weights computed\n"
     ]
    }
   ],
   "source": [
    "def calc_game_weights(gs_list):\n",
    "    result = []\n",
    "    for i, gs in enumerate(gs_list):\n",
    "        for ply_index, ps in gs.d.items():\n",
    "            weight = calc_ply_weight(ps)\n",
    "            if weight > 0:\n",
    "                result.append({\"game\":i, \"ply\":ply_index, \"weight\":weight})\n",
    "    return result\n",
    "\n",
    "game_weights = calc_game_weights(all_stats)\n",
    "print(\"Game weights computed\")"
   ]
  },
  {
   "cell_type": "code",
   "execution_count": 73,
   "id": "6dd1f4f7",
   "metadata": {},
   "outputs": [
    {
     "name": "stdout",
     "output_type": "stream",
     "text": [
      "18936\n",
      "{'game': 5, 'ply': 63, 'weight': 1.7320508075688772}\n"
     ]
    },
    {
     "data": {
      "text/plain": [
       "{'white_moves': 29,\n",
       " 'white_checks': 1,\n",
       " 'white_captures': 0,\n",
       " 'black_moves': 38,\n",
       " 'black_checks': 1,\n",
       " 'black_captures': 0,\n",
       " 'in_check': False,\n",
       " 'castling_rights': False,\n",
       " 'en_passant_rights': False}"
      ]
     },
     "execution_count": 73,
     "metadata": {},
     "output_type": "execute_result"
    }
   ],
   "source": [
    "print(len(game_weights))\n",
    "print(game_weights[172])\n",
    "\n",
    "all_stats[5][63].__dict__"
   ]
  },
  {
   "cell_type": "markdown",
   "id": "841edda2",
   "metadata": {},
   "source": [
    "Make sure that one game doesn't dominate the data set, and the weights look ok"
   ]
  },
  {
   "cell_type": "code",
   "execution_count": 74,
   "id": "69314dac",
   "metadata": {},
   "outputs": [
    {
     "data": {
      "image/png": "[encoded data removed]",
      "text/plain": [
       "<Figure size 432x288 with 1 Axes>"
      ]
     },
     "metadata": {
      "needs_background": "light"
     },
     "output_type": "display_data"
    }
   ],
   "source": [
    "import matplotlib.pyplot as plt\n",
    "from collections import defaultdict\n",
    "\n",
    "grouped_weights = defaultdict(float)\n",
    "\n",
    "for row in game_weights:\n",
    "    grouped_weights[row[\"game\"]] += row[\"weight\"]\n",
    "\n",
    "# Create a list of total weights for each game.\n",
    "total_weights = list(grouped_weights.values())\n",
    "\n",
    "# Plot the histogram of the total weights.\n",
    "plt.hist(total_weights, bins=20, edgecolor='black')\n",
    "plt.xlabel('Total Weight per Game')\n",
    "plt.ylabel('Number of Games')\n",
    "plt.title('Histogram of Total Game Weights')\n",
    "plt.show()"
   ]
  },
  {
   "cell_type": "code",
   "execution_count": 75,
   "id": "a1ae51a7",
   "metadata": {},
   "outputs": [
    {
     "data": {
      "text/plain": [
       "(array([ 507., 2062., 1758., 4323., 4129., 3814., 1643.,  567.,  118.,\n",
       "          15.]),\n",
       " array([1. , 1.4, 1.8, 2.2, 2.6, 3. , 3.4, 3.8, 4.2, 4.6, 5. ]),\n",
       " <BarContainer object of 10 artists>)"
      ]
     },
     "execution_count": 75,
     "metadata": {},
     "output_type": "execute_result"
    },
    {
     "data": {
      "image/png": "[encoded data removed]",
      "text/plain": [
       "<Figure size 432x288 with 1 Axes>"
      ]
     },
     "metadata": {
      "needs_background": "light"
     },
     "output_type": "display_data"
    }
   ],
   "source": [
    "plt.hist([d[\"weight\"] for d in game_weights])"
   ]
  },
  {
   "cell_type": "markdown",
   "id": "c997a834",
   "metadata": {},
   "source": [
    "Save the results to disk"
   ]
  },
  {
   "cell_type": "code",
   "execution_count": 84,
   "id": "ff8593c2",
   "metadata": {},
   "outputs": [],
   "source": [
    "def write_game_weights(game_weights):\n",
    "    output_filename = output_weights_fn_base + \".json\"\n",
    "    with open(output_filename, \"w\", encoding=\"utf-8\") as f:\n",
    "        json.dump(game_weights, f, indent=2)\n",
    "    print(f\"Saved {len(game_weights)} to {output_filename}\")"
   ]
  },
  {
   "cell_type": "code",
   "execution_count": 85,
   "id": "890dbc33",
   "metadata": {},
   "outputs": [
    {
     "name": "stdout",
     "output_type": "stream",
     "text": [
      "Saved 18936 to selected_weights.json\n",
      "Game weights written\n"
     ]
    }
   ],
   "source": [
    "write_game_weights(game_weights)\n",
    "print(\"Game weights written\")"
   ]
  },
  {
   "cell_type": "code",
   "execution_count": 86,
   "id": "aed9831b",
   "metadata": {},
   "outputs": [
    {
     "name": "stdout",
     "output_type": "stream",
     "text": [
      "Total games processed: 500\n"
     ]
    }
   ],
   "source": [
    "print(f\"Total games processed: {len(filtered_games)}\")"
   ]
  }
 ],
 "metadata": {
  "kernelspec": {
   "display_name": "Python 3 (ipykernel)",
   "language": "python",
   "name": "python3"
  },
  "language_info": {
   "codemirror_mode": {
    "name": "ipython",
    "version": 3
   },
   "file_extension": ".py",
   "mimetype": "text/x-python",
   "name": "python",
   "nbconvert_exporter": "python",
   "pygments_lexer": "ipython3",
   "version": "3.10.12"
  }
 },
 "nbformat": 4,
 "nbformat_minor": 5
}
